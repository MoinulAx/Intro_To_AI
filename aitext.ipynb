{
 "cells": [
  {
   "cell_type": "code",
   "execution_count": 6,
   "metadata": {},
   "outputs": [
    {
     "name": "stderr",
     "output_type": "stream",
     "text": [
      "Downloading (…)lve/main/config.json: 100%|██████████| 665/665 [00:00<00:00, 128kB/s]\n",
      "Downloading (…)\"pytorch_model.bin\";: 100%|██████████| 548M/548M [01:33<00:00, 5.84MB/s] \n",
      "Generate config GenerationConfig {\n",
      "  \"bos_token_id\": 50256,\n",
      "  \"eos_token_id\": 50256,\n",
      "  \"transformers_version\": \"4.26.1\"\n",
      "}\n",
      "\n",
      "Downloading (…)neration_config.json: 100%|██████████| 124/124 [00:00<00:00, 36.8kB/s]\n",
      "loading configuration file generation_config.json from cache at aitextgen/models--gpt2/snapshots/e7da7f221d5bf496a48136c0cd264e630fe9fcc8/generation_config.json\n",
      "Generate config GenerationConfig {\n",
      "  \"_from_model_config\": true,\n",
      "  \"bos_token_id\": 50256,\n",
      "  \"eos_token_id\": 50256,\n",
      "  \"transformers_version\": \"4.26.1\"\n",
      "}\n",
      "\n"
     ]
    }
   ],
   "source": [
    "from aitextgen import aitextgen\n",
    "\n",
    "ai= aitextgen()"
   ]
  },
  {
   "cell_type": "code",
   "execution_count": 7,
   "metadata": {},
   "outputs": [
    {
     "name": "stderr",
     "output_type": "stream",
     "text": [
      "Generate config GenerationConfig {\n",
      "  \"bos_token_id\": 50256,\n",
      "  \"eos_token_id\": 50256,\n",
      "  \"transformers_version\": \"4.26.1\"\n",
      "}\n",
      "\n",
      "A decoder-only architecture is being used, but right-padding was detected! For correct generation results, please set `padding_side='left'` when initializing the tokenizer.\n"
     ]
    },
    {
     "name": "stdout",
     "output_type": "stream",
     "text": [
      "The new world of online shopping is a world away from the traditional retail experience where you buy a bunch of products at a time. But it's not just online. There are other tools out there that are capable of providing a much more seamless experience. For example, e-commerce is rapidly becoming ubiquitous.\n",
      "\n",
      "Now, however, there are a bunch of new tools that can help you buy online, but it's a new world of shopping where you have to buy something a few times a day and spend it each time. Here are five of the best online shopping tools you can use to make sure you have everything you need.\n",
      "\n",
      "1. Virtual Cart\n",
      "\n",
      "Virtual Cart is a new technology that allows you to buy online in real time. It's a way to buy a lot of items and then buy things from the online store. It's just a new way of doing things.\n",
      "\n",
      "You can buy online from a virtual store and then store these items in your account. You can then check in on your account every day.\n",
      "\n",
      "Virtual Cart also allows you to buy items you already own at the online store, but that you can't buy online from your computer.\n",
      "\n",
      "Virtual Cart is available on the Apple App Store.\n",
      "\n",
      "2.\n",
      "None\n"
     ]
    }
   ],
   "source": [
    "print(ai.generate())"
   ]
  },
  {
   "cell_type": "code",
   "execution_count": 12,
   "metadata": {},
   "outputs": [
    {
     "name": "stderr",
     "output_type": "stream",
     "text": [
      "Generate config GenerationConfig {\n",
      "  \"bos_token_id\": 50256,\n",
      "  \"eos_token_id\": 50256,\n",
      "  \"transformers_version\": \"4.26.1\"\n",
      "}\n",
      "\n"
     ]
    },
    {
     "name": "stdout",
     "output_type": "stream",
     "text": [
      "\u001b[1mI really like unicorns they are so\u001b[0m adorable and funny, so silly, so good fun, so nice, so very good,\" she said.\n",
      "\n",
      "\"I love the birds in the nursery and I love the garden. I love how they do things. I love having children with them,\" she said.\n",
      "\n",
      "\"I think the people around me are so adorable and so funny and so cute. I think the people around me are so cute and so funny and so nice,\" she said.\n",
      "\n",
      "\"I love it when people come out to see me and say thank you, and they are so friendly and so easy to talk to. That is what I like about it,\" the couple added.\n",
      "\n",
      "The couple said they wanted to start a new family in May.\n",
      "\n",
      "\"I've been thinking about my baby for a while and I know what I'm going to do. I am so proud of my friends and family who have made this dream come true,\" said the couple.\n",
      "\n",
      "The couple said they're going to start a local business that will be able to sell the couple a lot of their wares.\n",
      "\n",
      "\"We are going to be starting our own business in the future, and I am so excited that people would come out and\n",
      "==========\n",
      "\u001b[1mI really like unicorns they are so\u001b[0m well hidden but I'm not sure what else they should display in the gallery.\n",
      "\n",
      "This looks like a nice place to keep your eyes peeled for more of the lovely things we've spotted so far. Also, I think this is the only one that I've seen that doesn't have a 'pink' like the other two.\n",
      "\n",
      "I'd love to see more unicorns or blue unicorns, if you spot one please let me know!\n",
      "\n",
      "I was on a last minute trip to California with my wife's boyfriend and we were looking for some unicorns and this place is definitely worth a visit.\n",
      "\n",
      "I hope you enjoy this post and thanks for reading.\n",
      "\n",
      "Advertisements\n",
      "==========\n",
      "\u001b[1mI really like unicorns they are so\u001b[0m cute. I also really like the lettering of the letters like that. I am a big fan of the Star Wars characters and they are so adorable too.\n",
      "\n",
      "This is a huge surprise! I haven't heard of this project before so I am surprised how much people are surprised with it!\n",
      "\n",
      "Thanks so much for sharing! I hope you enjoy it!\n",
      "None\n"
     ]
    }
   ],
   "source": [
    "print(ai.generate(prompt=\"I really like unicorns they are so\",max_length=100,n=3))"
   ]
  },
  {
   "cell_type": "code",
   "execution_count": 14,
   "metadata": {},
   "outputs": [
    {
     "name": "stderr",
     "output_type": "stream",
     "text": [
      "Generate config GenerationConfig {\n",
      "  \"bos_token_id\": 50256,\n",
      "  \"eos_token_id\": 50256,\n",
      "  \"transformers_version\": \"4.26.1\"\n",
      "}\n",
      "\n"
     ]
    },
    {
     "name": "stdout",
     "output_type": "stream",
     "text": [
      "\u001b[1mYes, because its simply a tool that would elevate stress with the knowledge that you aquire when you learn how to use it\u001b[0m.\n",
      "\n",
      "The problem with the term \"piercing\" is that it does not refer to a problem that can be solved with a single stroke. It refers to a process that must be done, and then the process must be completed. In other words, the process is a physical process.\n",
      "\n",
      "While this is a great way to start a discussion about the importance of learning more, it is not the best way to start a discussion about the benefits and drawbacks of writing.\n",
      "\n",
      "When you learn more about writing, it will help you to be more productive. It will also help you to become more creative in your writing.\n",
      "\n",
      "When you do not learn as much as you think you will, you will fail. You will fail because you are not a writer.\n",
      "\n",
      "Don't be afraid to use the tools of the Internet.\n",
      "\n",
      "How to build a stronger relationship with your creative writing\n",
      "\n",
      "As I mentioned before, the Internet is not as helpful as it once was.\n",
      "\n",
      "In fact, in many ways, the Internet has made writing less of a joy.\n",
      "\n",
      "Some people may tell you that writing is a\n",
      "==========\n",
      "\u001b[1mYes, because its simply a tool that would elevate stress with the knowledge that you aquire when you learn how to use it\u001b[0m.\n",
      "\n",
      "[This post is part of an ongoing series about the importance of knowing how to use the Power Balance Calculator to make your life easier.]\n",
      "==========\n",
      "\u001b[1mYes, because its simply a tool that would elevate stress with the knowledge that you aquire when you learn how to use it\u001b[0m.\n",
      "\n",
      "When you're faced with a situation of constant stress, the simple act of working through it will let you know how to better understand what you're dealing with.\n",
      "\n",
      "When you are faced with an environment of low levels of stress, like a swimming pool or a car, the simpler the solution is to simply take a quick break and take a rest for a few minutes to calm your mind.\n",
      "\n",
      "After that, you will be better able to focus on your everyday tasks and keep going.\n",
      "\n",
      "You will realize that you have put on a new level of stress.\n",
      "\n",
      "When you start working at an office, you will no longer be able to concentrate intensely on your workload and focus on your work. You will be able to find a way to focus on your everyday tasks and do less of them.\n",
      "\n",
      "The time you spend with your coworkers and friends is less important than the time you spend with your life and all the things you have to do to enjoy life.\n",
      "\n",
      "That's why you can find the time you need to focus on your everyday tasks and do less of them.\n",
      "\n",
      "It's also why there\n",
      "None\n"
     ]
    }
   ],
   "source": [
    "print(ai.generate(prompt=\"Yes, because its simply a tool that would elevate stress with the knowledge that you aquire when you learn how to use it\",n=3))"
   ]
  }
 ],
 "metadata": {
  "kernelspec": {
   "display_name": "Python 3",
   "language": "python",
   "name": "python3"
  },
  "language_info": {
   "codemirror_mode": {
    "name": "ipython",
    "version": 3
   },
   "file_extension": ".py",
   "mimetype": "text/x-python",
   "name": "python",
   "nbconvert_exporter": "python",
   "pygments_lexer": "ipython3",
   "version": "3.9.6"
  },
  "orig_nbformat": 4,
  "vscode": {
   "interpreter": {
    "hash": "31f2aee4e71d21fbe5cf8b01ff0e069b9275f58929596ceb00d14d90e3e16cd6"
   }
  }
 },
 "nbformat": 4,
 "nbformat_minor": 2
}
